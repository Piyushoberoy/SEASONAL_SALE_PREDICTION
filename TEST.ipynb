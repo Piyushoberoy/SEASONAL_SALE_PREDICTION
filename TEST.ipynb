{
 "cells": [
  {
   "cell_type": "markdown",
   "metadata": {},
   "source": [
    "IMPORTING INELUCTABLE LIBRARIES"
   ]
  },
  {
   "cell_type": "code",
   "execution_count": 1,
   "metadata": {},
   "outputs": [],
   "source": [
    "import joblib\n",
    "import pandas as pd\n",
    "import seaborn as sb\n",
    "import matplotlib.pyplot as mpl\n",
    "\n",
    "from sklearn.model_selection import train_test_split\n",
    "\n",
    "from sklearn.metrics import accuracy_score\n",
    "from sklearn import tree\n",
    "from sklearn.naive_bayes import GaussianNB\n",
    "from sklearn.neighbors import KNeighborsClassifier\n",
    "from sklearn.ensemble import RandomForestClassifier"
   ]
  },
  {
   "cell_type": "markdown",
   "metadata": {},
   "source": [
    "IMPORTING DATASET"
   ]
  },
  {
   "cell_type": "code",
   "execution_count": 2,
   "metadata": {},
   "outputs": [
    {
     "data": {
      "text/html": [
       "<div>\n",
       "<style scoped>\n",
       "    .dataframe tbody tr th:only-of-type {\n",
       "        vertical-align: middle;\n",
       "    }\n",
       "\n",
       "    .dataframe tbody tr th {\n",
       "        vertical-align: top;\n",
       "    }\n",
       "\n",
       "    .dataframe thead th {\n",
       "        text-align: right;\n",
       "    }\n",
       "</style>\n",
       "<table border=\"1\" class=\"dataframe\">\n",
       "  <thead>\n",
       "    <tr style=\"text-align: right;\">\n",
       "      <th></th>\n",
       "      <th>id</th>\n",
       "      <th>week_id</th>\n",
       "      <th>value</th>\n",
       "    </tr>\n",
       "  </thead>\n",
       "  <tbody>\n",
       "    <tr>\n",
       "      <th>0</th>\n",
       "      <td>frozen-yogurt</td>\n",
       "      <td>2004-01</td>\n",
       "      <td>20</td>\n",
       "    </tr>\n",
       "    <tr>\n",
       "      <th>1</th>\n",
       "      <td>frozen-yogurt</td>\n",
       "      <td>2004-02</td>\n",
       "      <td>16</td>\n",
       "    </tr>\n",
       "    <tr>\n",
       "      <th>2</th>\n",
       "      <td>frozen-yogurt</td>\n",
       "      <td>2004-03</td>\n",
       "      <td>7</td>\n",
       "    </tr>\n",
       "    <tr>\n",
       "      <th>3</th>\n",
       "      <td>frozen-yogurt</td>\n",
       "      <td>2004-04</td>\n",
       "      <td>7</td>\n",
       "    </tr>\n",
       "    <tr>\n",
       "      <th>4</th>\n",
       "      <td>frozen-yogurt</td>\n",
       "      <td>2004-05</td>\n",
       "      <td>13</td>\n",
       "    </tr>\n",
       "    <tr>\n",
       "      <th>5</th>\n",
       "      <td>frozen-yogurt</td>\n",
       "      <td>2004-06</td>\n",
       "      <td>9</td>\n",
       "    </tr>\n",
       "    <tr>\n",
       "      <th>6</th>\n",
       "      <td>frozen-yogurt</td>\n",
       "      <td>2004-07</td>\n",
       "      <td>8</td>\n",
       "    </tr>\n",
       "    <tr>\n",
       "      <th>7</th>\n",
       "      <td>frozen-yogurt</td>\n",
       "      <td>2004-08</td>\n",
       "      <td>10</td>\n",
       "    </tr>\n",
       "    <tr>\n",
       "      <th>8</th>\n",
       "      <td>frozen-yogurt</td>\n",
       "      <td>2004-09</td>\n",
       "      <td>14</td>\n",
       "    </tr>\n",
       "    <tr>\n",
       "      <th>9</th>\n",
       "      <td>frozen-yogurt</td>\n",
       "      <td>2004-10</td>\n",
       "      <td>19</td>\n",
       "    </tr>\n",
       "    <tr>\n",
       "      <th>10</th>\n",
       "      <td>frozen-yogurt</td>\n",
       "      <td>2004-11</td>\n",
       "      <td>16</td>\n",
       "    </tr>\n",
       "    <tr>\n",
       "      <th>11</th>\n",
       "      <td>frozen-yogurt</td>\n",
       "      <td>2004-12</td>\n",
       "      <td>21</td>\n",
       "    </tr>\n",
       "    <tr>\n",
       "      <th>12</th>\n",
       "      <td>frozen-yogurt</td>\n",
       "      <td>2004-13</td>\n",
       "      <td>16</td>\n",
       "    </tr>\n",
       "    <tr>\n",
       "      <th>13</th>\n",
       "      <td>frozen-yogurt</td>\n",
       "      <td>2004-14</td>\n",
       "      <td>12</td>\n",
       "    </tr>\n",
       "    <tr>\n",
       "      <th>14</th>\n",
       "      <td>frozen-yogurt</td>\n",
       "      <td>2004-15</td>\n",
       "      <td>42</td>\n",
       "    </tr>\n",
       "    <tr>\n",
       "      <th>15</th>\n",
       "      <td>frozen-yogurt</td>\n",
       "      <td>2004-16</td>\n",
       "      <td>16</td>\n",
       "    </tr>\n",
       "    <tr>\n",
       "      <th>16</th>\n",
       "      <td>frozen-yogurt</td>\n",
       "      <td>2004-17</td>\n",
       "      <td>14</td>\n",
       "    </tr>\n",
       "    <tr>\n",
       "      <th>17</th>\n",
       "      <td>frozen-yogurt</td>\n",
       "      <td>2004-18</td>\n",
       "      <td>10</td>\n",
       "    </tr>\n",
       "    <tr>\n",
       "      <th>18</th>\n",
       "      <td>frozen-yogurt</td>\n",
       "      <td>2004-19</td>\n",
       "      <td>11</td>\n",
       "    </tr>\n",
       "    <tr>\n",
       "      <th>19</th>\n",
       "      <td>frozen-yogurt</td>\n",
       "      <td>2004-20</td>\n",
       "      <td>20</td>\n",
       "    </tr>\n",
       "  </tbody>\n",
       "</table>\n",
       "</div>"
      ],
      "text/plain": [
       "               id  week_id  value\n",
       "0   frozen-yogurt  2004-01     20\n",
       "1   frozen-yogurt  2004-02     16\n",
       "2   frozen-yogurt  2004-03      7\n",
       "3   frozen-yogurt  2004-04      7\n",
       "4   frozen-yogurt  2004-05     13\n",
       "5   frozen-yogurt  2004-06      9\n",
       "6   frozen-yogurt  2004-07      8\n",
       "7   frozen-yogurt  2004-08     10\n",
       "8   frozen-yogurt  2004-09     14\n",
       "9   frozen-yogurt  2004-10     19\n",
       "10  frozen-yogurt  2004-11     16\n",
       "11  frozen-yogurt  2004-12     21\n",
       "12  frozen-yogurt  2004-13     16\n",
       "13  frozen-yogurt  2004-14     12\n",
       "14  frozen-yogurt  2004-15     42\n",
       "15  frozen-yogurt  2004-16     16\n",
       "16  frozen-yogurt  2004-17     14\n",
       "17  frozen-yogurt  2004-18     10\n",
       "18  frozen-yogurt  2004-19     11\n",
       "19  frozen-yogurt  2004-20     20"
      ]
     },
     "execution_count": 2,
     "metadata": {},
     "output_type": "execute_result"
    }
   ],
   "source": [
    "file = pd.read_csv(\"K:\\PROGRAMS\\PYTHON\\SSP\\SEASONAL_SALE_PREDICTION\\SSV.csv\")\n",
    "file = file[[\"id\", \"week_id\", \"value\"]]\n",
    "file.head(20)"
   ]
  },
  {
   "cell_type": "markdown",
   "metadata": {},
   "source": [
    "PREPROCESSING"
   ]
  },
  {
   "cell_type": "code",
   "execution_count": 3,
   "metadata": {},
   "outputs": [
    {
     "data": {
      "text/html": [
       "<div>\n",
       "<style scoped>\n",
       "    .dataframe tbody tr th:only-of-type {\n",
       "        vertical-align: middle;\n",
       "    }\n",
       "\n",
       "    .dataframe tbody tr th {\n",
       "        vertical-align: top;\n",
       "    }\n",
       "\n",
       "    .dataframe thead th {\n",
       "        text-align: right;\n",
       "    }\n",
       "</style>\n",
       "<table border=\"1\" class=\"dataframe\">\n",
       "  <thead>\n",
       "    <tr style=\"text-align: right;\">\n",
       "      <th></th>\n",
       "      <th>id</th>\n",
       "      <th>week_id</th>\n",
       "      <th>value</th>\n",
       "      <th>week_no</th>\n",
       "      <th>year</th>\n",
       "    </tr>\n",
       "  </thead>\n",
       "  <tbody>\n",
       "    <tr>\n",
       "      <th>0</th>\n",
       "      <td>frozen yogurt</td>\n",
       "      <td>2004-01</td>\n",
       "      <td>20</td>\n",
       "      <td>1</td>\n",
       "      <td>2004</td>\n",
       "    </tr>\n",
       "    <tr>\n",
       "      <th>1</th>\n",
       "      <td>frozen yogurt</td>\n",
       "      <td>2004-02</td>\n",
       "      <td>16</td>\n",
       "      <td>2</td>\n",
       "      <td>2004</td>\n",
       "    </tr>\n",
       "    <tr>\n",
       "      <th>2</th>\n",
       "      <td>frozen yogurt</td>\n",
       "      <td>2004-03</td>\n",
       "      <td>7</td>\n",
       "      <td>3</td>\n",
       "      <td>2004</td>\n",
       "    </tr>\n",
       "    <tr>\n",
       "      <th>3</th>\n",
       "      <td>frozen yogurt</td>\n",
       "      <td>2004-04</td>\n",
       "      <td>7</td>\n",
       "      <td>4</td>\n",
       "      <td>2004</td>\n",
       "    </tr>\n",
       "    <tr>\n",
       "      <th>4</th>\n",
       "      <td>frozen yogurt</td>\n",
       "      <td>2004-05</td>\n",
       "      <td>13</td>\n",
       "      <td>5</td>\n",
       "      <td>2004</td>\n",
       "    </tr>\n",
       "  </tbody>\n",
       "</table>\n",
       "</div>"
      ],
      "text/plain": [
       "              id  week_id  value  week_no  year\n",
       "0  frozen yogurt  2004-01     20        1  2004\n",
       "1  frozen yogurt  2004-02     16        2  2004\n",
       "2  frozen yogurt  2004-03      7        3  2004\n",
       "3  frozen yogurt  2004-04      7        4  2004\n",
       "4  frozen yogurt  2004-05     13        5  2004"
      ]
     },
     "execution_count": 3,
     "metadata": {},
     "output_type": "execute_result"
    }
   ],
   "source": [
    "file['week_no'] = file['week_id'].str.split('-').str[1].astype(int)\n",
    "file['year'] = file['week_id'].str.split('-').str[0].astype(int)\n",
    "\n",
    "file['id'] = file['id'].str.replace('-', ' ')\n",
    "file.head(5)"
   ]
  },
  {
   "cell_type": "code",
   "execution_count": 4,
   "metadata": {},
   "outputs": [
    {
     "data": {
      "text/html": [
       "<div>\n",
       "<style scoped>\n",
       "    .dataframe tbody tr th:only-of-type {\n",
       "        vertical-align: middle;\n",
       "    }\n",
       "\n",
       "    .dataframe tbody tr th {\n",
       "        vertical-align: top;\n",
       "    }\n",
       "\n",
       "    .dataframe thead th {\n",
       "        text-align: right;\n",
       "    }\n",
       "</style>\n",
       "<table border=\"1\" class=\"dataframe\">\n",
       "  <thead>\n",
       "    <tr style=\"text-align: right;\">\n",
       "      <th></th>\n",
       "      <th>id</th>\n",
       "      <th>week_id</th>\n",
       "      <th>value</th>\n",
       "      <th>week_no</th>\n",
       "      <th>year</th>\n",
       "      <th>p_id</th>\n",
       "    </tr>\n",
       "  </thead>\n",
       "  <tbody>\n",
       "    <tr>\n",
       "      <th>0</th>\n",
       "      <td>frozen yogurt</td>\n",
       "      <td>2004-01</td>\n",
       "      <td>20</td>\n",
       "      <td>1</td>\n",
       "      <td>2004</td>\n",
       "      <td>1001</td>\n",
       "    </tr>\n",
       "    <tr>\n",
       "      <th>1</th>\n",
       "      <td>frozen yogurt</td>\n",
       "      <td>2004-02</td>\n",
       "      <td>16</td>\n",
       "      <td>2</td>\n",
       "      <td>2004</td>\n",
       "      <td>1001</td>\n",
       "    </tr>\n",
       "    <tr>\n",
       "      <th>2</th>\n",
       "      <td>frozen yogurt</td>\n",
       "      <td>2004-03</td>\n",
       "      <td>7</td>\n",
       "      <td>3</td>\n",
       "      <td>2004</td>\n",
       "      <td>1001</td>\n",
       "    </tr>\n",
       "    <tr>\n",
       "      <th>3</th>\n",
       "      <td>frozen yogurt</td>\n",
       "      <td>2004-04</td>\n",
       "      <td>7</td>\n",
       "      <td>4</td>\n",
       "      <td>2004</td>\n",
       "      <td>1001</td>\n",
       "    </tr>\n",
       "    <tr>\n",
       "      <th>4</th>\n",
       "      <td>frozen yogurt</td>\n",
       "      <td>2004-05</td>\n",
       "      <td>13</td>\n",
       "      <td>5</td>\n",
       "      <td>2004</td>\n",
       "      <td>1001</td>\n",
       "    </tr>\n",
       "    <tr>\n",
       "      <th>...</th>\n",
       "      <td>...</td>\n",
       "      <td>...</td>\n",
       "      <td>...</td>\n",
       "      <td>...</td>\n",
       "      <td>...</td>\n",
       "      <td>...</td>\n",
       "    </tr>\n",
       "    <tr>\n",
       "      <th>135020</th>\n",
       "      <td>shrimp</td>\n",
       "      <td>2016-48</td>\n",
       "      <td>35</td>\n",
       "      <td>48</td>\n",
       "      <td>2016</td>\n",
       "      <td>1201</td>\n",
       "    </tr>\n",
       "    <tr>\n",
       "      <th>135021</th>\n",
       "      <td>shrimp</td>\n",
       "      <td>2016-49</td>\n",
       "      <td>32</td>\n",
       "      <td>49</td>\n",
       "      <td>2016</td>\n",
       "      <td>1201</td>\n",
       "    </tr>\n",
       "    <tr>\n",
       "      <th>135022</th>\n",
       "      <td>shrimp</td>\n",
       "      <td>2016-50</td>\n",
       "      <td>39</td>\n",
       "      <td>50</td>\n",
       "      <td>2016</td>\n",
       "      <td>1201</td>\n",
       "    </tr>\n",
       "    <tr>\n",
       "      <th>135023</th>\n",
       "      <td>shrimp</td>\n",
       "      <td>2016-51</td>\n",
       "      <td>55</td>\n",
       "      <td>51</td>\n",
       "      <td>2016</td>\n",
       "      <td>1201</td>\n",
       "    </tr>\n",
       "    <tr>\n",
       "      <th>135024</th>\n",
       "      <td>shrimp</td>\n",
       "      <td>2016-52</td>\n",
       "      <td>51</td>\n",
       "      <td>52</td>\n",
       "      <td>2016</td>\n",
       "      <td>1201</td>\n",
       "    </tr>\n",
       "  </tbody>\n",
       "</table>\n",
       "<p>135025 rows × 6 columns</p>\n",
       "</div>"
      ],
      "text/plain": [
       "                   id  week_id  value  week_no  year  p_id\n",
       "0       frozen yogurt  2004-01     20        1  2004  1001\n",
       "1       frozen yogurt  2004-02     16        2  2004  1001\n",
       "2       frozen yogurt  2004-03      7        3  2004  1001\n",
       "3       frozen yogurt  2004-04      7        4  2004  1001\n",
       "4       frozen yogurt  2004-05     13        5  2004  1001\n",
       "...               ...      ...    ...      ...   ...   ...\n",
       "135020         shrimp  2016-48     35       48  2016  1201\n",
       "135021         shrimp  2016-49     32       49  2016  1201\n",
       "135022         shrimp  2016-50     39       50  2016  1201\n",
       "135023         shrimp  2016-51     55       51  2016  1201\n",
       "135024         shrimp  2016-52     51       52  2016  1201\n",
       "\n",
       "[135025 rows x 6 columns]"
      ]
     },
     "execution_count": 4,
     "metadata": {},
     "output_type": "execute_result"
    }
   ],
   "source": [
    "file['p_id'] = pd.factorize(file['id'])[0] + 1001\n",
    "file"
   ]
  },
  {
   "cell_type": "code",
   "execution_count": 5,
   "metadata": {},
   "outputs": [
    {
     "data": {
      "text/html": [
       "<div>\n",
       "<style scoped>\n",
       "    .dataframe tbody tr th:only-of-type {\n",
       "        vertical-align: middle;\n",
       "    }\n",
       "\n",
       "    .dataframe tbody tr th {\n",
       "        vertical-align: top;\n",
       "    }\n",
       "\n",
       "    .dataframe thead th {\n",
       "        text-align: right;\n",
       "    }\n",
       "</style>\n",
       "<table border=\"1\" class=\"dataframe\">\n",
       "  <thead>\n",
       "    <tr style=\"text-align: right;\">\n",
       "      <th></th>\n",
       "      <th>week_id</th>\n",
       "      <th>value</th>\n",
       "      <th>week_no</th>\n",
       "      <th>year</th>\n",
       "      <th>p_id</th>\n",
       "    </tr>\n",
       "    <tr>\n",
       "      <th>id</th>\n",
       "      <th></th>\n",
       "      <th></th>\n",
       "      <th></th>\n",
       "      <th></th>\n",
       "      <th></th>\n",
       "    </tr>\n",
       "  </thead>\n",
       "  <tbody>\n",
       "    <tr>\n",
       "      <th>anise</th>\n",
       "      <td>2004-01</td>\n",
       "      <td>26</td>\n",
       "      <td>1</td>\n",
       "      <td>2004</td>\n",
       "      <td>1145</td>\n",
       "    </tr>\n",
       "    <tr>\n",
       "      <th>apple</th>\n",
       "      <td>2004-01</td>\n",
       "      <td>17</td>\n",
       "      <td>1</td>\n",
       "      <td>2004</td>\n",
       "      <td>1113</td>\n",
       "    </tr>\n",
       "    <tr>\n",
       "      <th>apple au</th>\n",
       "      <td>2004-01</td>\n",
       "      <td>20</td>\n",
       "      <td>1</td>\n",
       "      <td>2004</td>\n",
       "      <td>1153</td>\n",
       "    </tr>\n",
       "    <tr>\n",
       "      <th>apple cider</th>\n",
       "      <td>2004-01</td>\n",
       "      <td>2</td>\n",
       "      <td>1</td>\n",
       "      <td>2004</td>\n",
       "      <td>1157</td>\n",
       "    </tr>\n",
       "    <tr>\n",
       "      <th>apple pie</th>\n",
       "      <td>2004-01</td>\n",
       "      <td>3</td>\n",
       "      <td>1</td>\n",
       "      <td>2004</td>\n",
       "      <td>1019</td>\n",
       "    </tr>\n",
       "    <tr>\n",
       "      <th>...</th>\n",
       "      <td>...</td>\n",
       "      <td>...</td>\n",
       "      <td>...</td>\n",
       "      <td>...</td>\n",
       "      <td>...</td>\n",
       "    </tr>\n",
       "    <tr>\n",
       "      <th>watermelon</th>\n",
       "      <td>2004-01</td>\n",
       "      <td>4</td>\n",
       "      <td>1</td>\n",
       "      <td>2004</td>\n",
       "      <td>1169</td>\n",
       "    </tr>\n",
       "    <tr>\n",
       "      <th>whiskey sour</th>\n",
       "      <td>2004-01</td>\n",
       "      <td>20</td>\n",
       "      <td>1</td>\n",
       "      <td>2004</td>\n",
       "      <td>1090</td>\n",
       "    </tr>\n",
       "    <tr>\n",
       "      <th>white russian</th>\n",
       "      <td>2004-01</td>\n",
       "      <td>21</td>\n",
       "      <td>1</td>\n",
       "      <td>2004</td>\n",
       "      <td>1089</td>\n",
       "    </tr>\n",
       "    <tr>\n",
       "      <th>white wine</th>\n",
       "      <td>2004-01</td>\n",
       "      <td>25</td>\n",
       "      <td>1</td>\n",
       "      <td>2004</td>\n",
       "      <td>1181</td>\n",
       "    </tr>\n",
       "    <tr>\n",
       "      <th>wild leek</th>\n",
       "      <td>2004-05</td>\n",
       "      <td>20</td>\n",
       "      <td>5</td>\n",
       "      <td>2004</td>\n",
       "      <td>1074</td>\n",
       "    </tr>\n",
       "  </tbody>\n",
       "</table>\n",
       "<p>201 rows × 5 columns</p>\n",
       "</div>"
      ],
      "text/plain": [
       "               week_id  value  week_no  year  p_id\n",
       "id                                                \n",
       "anise          2004-01     26        1  2004  1145\n",
       "apple          2004-01     17        1  2004  1113\n",
       "apple au       2004-01     20        1  2004  1153\n",
       "apple cider    2004-01      2        1  2004  1157\n",
       "apple pie      2004-01      3        1  2004  1019\n",
       "...                ...    ...      ...   ...   ...\n",
       "watermelon     2004-01      4        1  2004  1169\n",
       "whiskey sour   2004-01     20        1  2004  1090\n",
       "white russian  2004-01     21        1  2004  1089\n",
       "white wine     2004-01     25        1  2004  1181\n",
       "wild leek      2004-05     20        5  2004  1074\n",
       "\n",
       "[201 rows x 5 columns]"
      ]
     },
     "execution_count": 5,
     "metadata": {},
     "output_type": "execute_result"
    }
   ],
   "source": [
    "category = file.groupby(file.id).first()\n",
    "category"
   ]
  },
  {
   "cell_type": "code",
   "execution_count": 6,
   "metadata": {},
   "outputs": [
    {
     "data": {
      "text/plain": [
       "id         object\n",
       "week_id    object\n",
       "value       int64\n",
       "week_no     int32\n",
       "year        int32\n",
       "p_id        int64\n",
       "dtype: object"
      ]
     },
     "execution_count": 6,
     "metadata": {},
     "output_type": "execute_result"
    }
   ],
   "source": [
    "file.dtypes"
   ]
  },
  {
   "cell_type": "code",
   "execution_count": 7,
   "metadata": {},
   "outputs": [
    {
     "data": {
      "text/html": [
       "<div>\n",
       "<style scoped>\n",
       "    .dataframe tbody tr th:only-of-type {\n",
       "        vertical-align: middle;\n",
       "    }\n",
       "\n",
       "    .dataframe tbody tr th {\n",
       "        vertical-align: top;\n",
       "    }\n",
       "\n",
       "    .dataframe thead th {\n",
       "        text-align: right;\n",
       "    }\n",
       "</style>\n",
       "<table border=\"1\" class=\"dataframe\">\n",
       "  <thead>\n",
       "    <tr style=\"text-align: right;\">\n",
       "      <th></th>\n",
       "      <th>p_id</th>\n",
       "      <th>week_no</th>\n",
       "      <th>year</th>\n",
       "      <th>value</th>\n",
       "    </tr>\n",
       "  </thead>\n",
       "  <tbody>\n",
       "    <tr>\n",
       "      <th>0</th>\n",
       "      <td>1001</td>\n",
       "      <td>1</td>\n",
       "      <td>2004</td>\n",
       "      <td>20</td>\n",
       "    </tr>\n",
       "    <tr>\n",
       "      <th>1</th>\n",
       "      <td>1001</td>\n",
       "      <td>2</td>\n",
       "      <td>2004</td>\n",
       "      <td>16</td>\n",
       "    </tr>\n",
       "    <tr>\n",
       "      <th>2</th>\n",
       "      <td>1001</td>\n",
       "      <td>3</td>\n",
       "      <td>2004</td>\n",
       "      <td>7</td>\n",
       "    </tr>\n",
       "    <tr>\n",
       "      <th>3</th>\n",
       "      <td>1001</td>\n",
       "      <td>4</td>\n",
       "      <td>2004</td>\n",
       "      <td>7</td>\n",
       "    </tr>\n",
       "    <tr>\n",
       "      <th>4</th>\n",
       "      <td>1001</td>\n",
       "      <td>5</td>\n",
       "      <td>2004</td>\n",
       "      <td>13</td>\n",
       "    </tr>\n",
       "  </tbody>\n",
       "</table>\n",
       "</div>"
      ],
      "text/plain": [
       "   p_id  week_no  year  value\n",
       "0  1001        1  2004     20\n",
       "1  1001        2  2004     16\n",
       "2  1001        3  2004      7\n",
       "3  1001        4  2004      7\n",
       "4  1001        5  2004     13"
      ]
     },
     "execution_count": 7,
     "metadata": {},
     "output_type": "execute_result"
    }
   ],
   "source": [
    "modfile = file[[\"p_id\", \"week_no\", \"year\", \"value\"]]\n",
    "modfile.head()"
   ]
  },
  {
   "cell_type": "markdown",
   "metadata": {},
   "source": [
    "DATA ANALYSATION"
   ]
  },
  {
   "cell_type": "markdown",
   "metadata": {},
   "source": [
    "CORRELATION MATRIX"
   ]
  },
  {
   "cell_type": "code",
   "execution_count": 8,
   "metadata": {},
   "outputs": [
    {
     "data": {
      "text/plain": [
       "<Axes: >"
      ]
     },
     "execution_count": 8,
     "metadata": {},
     "output_type": "execute_result"
    },
    {
     "data": {
      "image/png": "[encoded data removed]",
      "text/plain": [
       "<Figure size 640x480 with 2 Axes>"
      ]
     },
     "metadata": {},
     "output_type": "display_data"
    }
   ],
   "source": [
    "sb.heatmap(modfile.corr(), annot=True)"
   ]
  },
  {
   "cell_type": "markdown",
   "metadata": {},
   "source": [
    "LINEPLOT BETWEEN \"ID\" AND \"VALUE\""
   ]
  },
  {
   "cell_type": "code",
   "execution_count": 9,
   "metadata": {},
   "outputs": [
    {
     "data": {
      "text/plain": [
       "(array([ 975., 1000., 1025., 1050., 1075., 1100., 1125., 1150., 1175.,\n",
       "        1200., 1225.]),\n",
       " [Text(975.0, 0, '975'),\n",
       "  Text(1000.0, 0, '1000'),\n",
       "  Text(1025.0, 0, '1025'),\n",
       "  Text(1050.0, 0, '1050'),\n",
       "  Text(1075.0, 0, '1075'),\n",
       "  Text(1100.0, 0, '1100'),\n",
       "  Text(1125.0, 0, '1125'),\n",
       "  Text(1150.0, 0, '1150'),\n",
       "  Text(1175.0, 0, '1175'),\n",
       "  Text(1200.0, 0, '1200'),\n",
       "  Text(1225.0, 0, '1225')])"
      ]
     },
     "execution_count": 9,
     "metadata": {},
     "output_type": "execute_result"
    },
    {
     "data": {
      "image/png": "[encoded data removed]",
      "text/plain": [
       "<Figure size 640x480 with 1 Axes>"
      ]
     },
     "metadata": {},
     "output_type": "display_data"
    }
   ],
   "source": [
    "sb.lineplot(x=\"p_id\", y=\"value\", data=category)\n",
    "mpl.xticks(rotation = 90)"
   ]
  },
  {
   "cell_type": "markdown",
   "metadata": {},
   "source": [
    "PAIRPLOT FOR \"ID\""
   ]
  },
  {
   "cell_type": "code",
   "execution_count": 10,
   "metadata": {},
   "outputs": [],
   "source": [
    "#sb.pairplot(file, hue=\"p_id\")"
   ]
  },
  {
   "cell_type": "markdown",
   "metadata": {},
   "source": [
    "SPLIT DATASET INTO TRAINING AND TESTING DATASETS"
   ]
  },
  {
   "cell_type": "code",
   "execution_count": 11,
   "metadata": {},
   "outputs": [],
   "source": [
    "x = file[[\"year\", \"week_no\", \"value\"]]\n",
    "y = file[\"id\"]\n",
    "train_x,test_x,train_y,test_y = train_test_split(x,y, test_size = 0.2)"
   ]
  },
  {
   "cell_type": "markdown",
   "metadata": {},
   "source": [
    "IMPLEMENTING DIFFERENT MODELS"
   ]
  },
  {
   "cell_type": "markdown",
   "metadata": {},
   "source": [
    "GAUSSIAN NAVE BAYES"
   ]
  },
  {
   "cell_type": "code",
   "execution_count": 12,
   "metadata": {},
   "outputs": [
    {
     "name": "stdout",
     "output_type": "stream",
     "text": [
      "Gaussian Naive Bayes score:  18.626180336974635\n"
     ]
    }
   ],
   "source": [
    "GNB = GaussianNB()\n",
    "GNB.fit(train_x,train_y)\n",
    "print(\"Gaussian Naive Bayes score: \",GNB.score(test_x, test_y)*1000)"
   ]
  },
  {
   "cell_type": "markdown",
   "metadata": {},
   "source": [
    "DECISION TREE"
   ]
  },
  {
   "cell_type": "code",
   "execution_count": 13,
   "metadata": {},
   "outputs": [
    {
     "name": "stdout",
     "output_type": "stream",
     "text": [
      "Decission Tree Classifier score:  9.294575078689132\n"
     ]
    }
   ],
   "source": [
    "DTC = tree.DecisionTreeClassifier(criterion='gini')\n",
    "DTC.fit(train_x, train_y)\n",
    "y_predict = DTC.predict(test_x)\n",
    "\n",
    "print(\"Decission Tree Classifier score: \",accuracy_score(test_y, y_predict)*1000)"
   ]
  },
  {
   "cell_type": "markdown",
   "metadata": {},
   "source": [
    "KNN CLASSIFIER"
   ]
  },
  {
   "cell_type": "code",
   "execution_count": 14,
   "metadata": {},
   "outputs": [
    {
     "name": "stdout",
     "output_type": "stream",
     "text": [
      "KNN Classifier score:  20.440659137196818\n"
     ]
    }
   ],
   "source": [
    "KNC = KNeighborsClassifier()\n",
    "KNC.fit(train_x, train_y)\n",
    "y_pred_KNC = KNC.predict(test_x)\n",
    "print(\"KNN Classifier score: \", accuracy_score(test_y, y_pred_KNC)*1000)"
   ]
  },
  {
   "cell_type": "markdown",
   "metadata": {},
   "source": [
    "RANDOM FOREST CLASSIFIER"
   ]
  },
  {
   "cell_type": "code",
   "execution_count": 15,
   "metadata": {},
   "outputs": [
    {
     "name": "stdout",
     "output_type": "stream",
     "text": [
      "Random Forest Classfier score:  5.887798555822996\n"
     ]
    }
   ],
   "source": [
    "RFC= RandomForestClassifier(n_estimators= 10, criterion=\"entropy\")  \n",
    "RFC.fit(train_x, train_y)\n",
    "y_pred= RFC.predict(test_x)\n",
    "print(\"Random Forest Classfier score: \", accuracy_score(test_y, y_pred)*1000)"
   ]
  },
  {
   "cell_type": "markdown",
   "metadata": {},
   "source": [
    "ALL MODELS SCORE"
   ]
  },
  {
   "cell_type": "code",
   "execution_count": 16,
   "metadata": {},
   "outputs": [
    {
     "name": "stdout",
     "output_type": "stream",
     "text": [
      "Decission Tree Classifier score:  9.294575078689132\n",
      "Random Forest Classfier score:  5.887798555822996\n",
      "KNN Classifier score:  20.440659137196818\n",
      "Gaussian Naive Bayes score:  18.626180336974635\n"
     ]
    }
   ],
   "source": [
    "print(\"Decission Tree Classifier score: \",accuracy_score(test_y, y_predict)*1000)\n",
    "print(\"Random Forest Classfier score: \", accuracy_score(test_y, y_pred)*1000)\n",
    "print(\"KNN Classifier score: \", accuracy_score(test_y, y_pred_KNC)*1000)\n",
    "print(\"Gaussian Naive Bayes score: \",GNB.score(test_x, test_y)*1000)"
   ]
  },
  {
   "cell_type": "code",
   "execution_count": 17,
   "metadata": {},
   "outputs": [
    {
     "data": {
      "text/plain": [
       "['Model.pkl']"
      ]
     },
     "execution_count": 17,
     "metadata": {},
     "output_type": "execute_result"
    }
   ],
   "source": [
    "joblib.dump(KNC, \"Model.pkl\")"
   ]
  },
  {
   "cell_type": "code",
   "execution_count": 18,
   "metadata": {},
   "outputs": [
    {
     "name": "stdout",
     "output_type": "stream",
     "text": [
      "Score =  20.44 %\n"
     ]
    }
   ],
   "source": [
    "loaded_model = joblib.load(\"Model.pkl\")\n",
    "print(\"Score = \",round((loaded_model.score(test_x, test_y)*1000), 2), \"%\")"
   ]
  },
  {
   "cell_type": "code",
   "execution_count": 19,
   "metadata": {},
   "outputs": [
    {
     "name": "stderr",
     "output_type": "stream",
     "text": [
      "C:\\Users\\HP\\AppData\\Local\\Packages\\PythonSoftwareFoundation.Python.3.8_qbz5n2kfra8p0\\LocalCache\\local-packages\\Python38\\site-packages\\sklearn\\base.py:465: UserWarning: X does not have valid feature names, but KNeighborsClassifier was fitted with feature names\n",
      "  warnings.warn(\n"
     ]
    },
    {
     "data": {
      "text/plain": [
       "array(['fennel'], dtype=object)"
      ]
     },
     "execution_count": 19,
     "metadata": {},
     "output_type": "execute_result"
    }
   ],
   "source": [
    "loaded_model.predict([[2002, 24, 22]])"
   ]
  }
 ],
 "metadata": {
  "kernelspec": {
   "display_name": "Python 3.8.8 64-bit",
   "language": "python",
   "name": "python3"
  },
  "language_info": {
   "codemirror_mode": {
    "name": "ipython",
    "version": 3
   },
   "file_extension": ".py",
   "mimetype": "text/x-python",
   "name": "python",
   "nbconvert_exporter": "python",
   "pygments_lexer": "ipython3",
   "version": "3.8.10"
  },
  "orig_nbformat": 4,
  "vscode": {
   "interpreter": {
    "hash": "ac17800cc119e3adc149373843116fd3f480c13b0460f2cd60a8884bd4557700"
   }
  }
 },
 "nbformat": 4,
 "nbformat_minor": 2
}
